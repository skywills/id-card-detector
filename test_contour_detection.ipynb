{
 "cells": [
  {
   "cell_type": "code",
   "execution_count": null,
   "metadata": {},
   "outputs": [],
   "source": [
    "from utils import img_util\n",
    "from utils import hed_util\n",
    "import numpy as np\n",
    "import cv2\n",
    "import os\n",
    "import matplotlib.pyplot as plt\n",
    "\n",
    "MODEL_NAME = 'model'\n",
    "HED_NAME = 'HED'\n",
    "# Grab path to current working directory\n",
    "CWD_PATH = os.getcwd()\n",
    "HED_PROTOTEXT_PATH = os.path.join(CWD_PATH,MODEL_NAME,HED_NAME,'deploy.prototxt')\n",
    "HED_CAFFEE_MODEL_PATH = os.path.join(CWD_PATH,MODEL_NAME,HED_NAME,'hed_pretrained_bsds.caffemodel')\n",
    "\n",
    "TEST_IMAGE_PATH = os.path.join(CWD_PATH, 'test_images')\n",
    "\n",
    "\n",
    "net = hed_util.load_dnn(HED_PROTOTEXT_PATH,HED_CAFFEE_MODEL_PATH)"
   ]
  },
  {
   "cell_type": "code",
   "execution_count": null,
   "metadata": {},
   "outputs": [],
   "source": [
    "def hed_edge(net, image):   \n",
    "    hed_edge = hed_util.edge_detection(net, image)\n",
    "    return cv2.cvtColor(hed_edge,cv2.COLOR_BGR2GRAY)  "
   ]
  },
  {
   "cell_type": "code",
   "execution_count": null,
   "metadata": {},
   "outputs": [],
   "source": [
    "#img = cv2.imread(PATH_TO_IMAGE, cv2.COLOR_BGR2RGB)\n",
    "PATH_TO_IMAGE = os.path.join(TEST_IMAGE_PATH, '001457.jpeg')\n",
    "img = plt.imread(PATH_TO_IMAGE)\n",
    "gray = hed_edge(net, img)\n",
    "binary = cv2.threshold(gray, 0, 255, cv2.THRESH_BINARY + cv2.THRESH_OTSU)[1]\n",
    "cnts = cv2.findContours(binary, cv2.RETR_TREE, cv2.CHAIN_APPROX_SIMPLE)\n",
    "cnts = cnts[0] if len(cnts) == 2 else cnts[1]\n",
    "boxes = []\n",
    "cnt = None\n",
    "max_area = x = y = w = h = 0\n",
    "i=0\n",
    "print('initial max area ', max_area)\n",
    "for c in cnts:\n",
    "    area = cv2.contourArea(c)\n",
    "    if area > max_area:\n",
    "        #print('{} > {}'.format(area, max_area))\n",
    "        x, y, w, h = cv2.boundingRect(c)\n",
    "        max_area = area\n",
    "        cnt = c    \n",
    "        boxes.append(c)\n",
    "        i+=1\n",
    "\n",
    "plt.imshow(img)\n",
    "print('number of contour ',i)"
   ]
  },
  {
   "cell_type": "code",
   "execution_count": null,
   "metadata": {},
   "outputs": [],
   "source": [
    "\n",
    "boxes = np.asarray(boxes)\n",
    "box = boxes[len(boxes)-1]\n",
    "#box = boxes[0]\n",
    "x1,y1,w1,h1 = cv2.boundingRect(box)\n",
    "print('x1 {} y1 {} w1 {} h1 {} x+w {} y+h {}'.format(x1,y1,w1,h1,x+w,y+h))\n",
    "\n",
    "#cv2.drawContours(img, [box], 0, (0,  255, 0), 3)\n",
    "#cv2.rectangle(img, (x1,y1), (x1+w1, y1+h1), (255, 0, 0), 3)\n",
    "#cv2.drawContours(img, [cnt], 0, (0,  255, 0), 3)\n",
    "#cv2.rectangle(img, (x,y), (x+w, y+h), (255, 0, 0), 3)\n",
    "#cv2.rectangle(img, (left,top), (right,bottom), (255, 0, 0), 2)\n",
    "print('x {} y {} w {} h {}'.format(x1,y1,w1,h1))\n",
    "crop_img = img[y1:y1+h1, x1:x1+w1]\n",
    "plt.imshow(crop_img)"
   ]
  },
  {
   "cell_type": "code",
   "execution_count": null,
   "metadata": {},
   "outputs": [],
   "source": []
  }
 ],
 "metadata": {
  "kernelspec": {
   "display_name": "Python 3",
   "language": "python",
   "name": "python3"
  },
  "language_info": {
   "codemirror_mode": {
    "name": "ipython",
    "version": 3
   },
   "file_extension": ".py",
   "mimetype": "text/x-python",
   "name": "python",
   "nbconvert_exporter": "python",
   "pygments_lexer": "ipython3",
   "version": "3.7.9"
  }
 },
 "nbformat": 4,
 "nbformat_minor": 2
}
