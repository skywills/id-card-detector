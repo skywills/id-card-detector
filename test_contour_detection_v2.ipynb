{
 "cells": [
  {
   "cell_type": "code",
   "execution_count": null,
   "metadata": {},
   "outputs": [],
   "source": [
    "from utils import img_util\n",
    "from utils import hed_util\n",
    "import numpy as np\n",
    "import cv2\n",
    "import os\n",
    "import matplotlib.pyplot as plt\n",
    "\n",
    "# Grab path to current working directory\n",
    "CWD_PATH = os.getcwd()\n",
    "TEST_IMAGE_PATH = os.path.join(CWD_PATH, 'test_images')\n",
    "\n",
    " \n",
    "rectKernel = cv2.getStructuringElement(cv2.MORPH_RECT, (9, 3))"
   ]
  },
  {
   "cell_type": "code",
   "execution_count": null,
   "metadata": {},
   "outputs": [],
   "source": [
    "# get grayscale image\n",
    "def get_grayscale(image):\n",
    "    return cv2.cvtColor(image, cv2.COLOR_BGR2GRAY)\n",
    "\n",
    "# noise removal\n",
    "def remove_noise(image):\n",
    "    return cv2.medianBlur(image,5)\n",
    " \n",
    "#thresholding\n",
    "def thresholding(image):\n",
    "    return cv2.threshold(image, 120, 255, cv2.THRESH_OTSU + cv2.THRESH_BINARY)[1]\n",
    "\n",
    "#dilation\n",
    "def dilate(image):\n",
    "    kernel = np.ones((5,5),dtype=np.uint8)\n",
    "    return cv2.dilate(image, kernel, iterations = 1)\n",
    "    \n",
    "#erosion\n",
    "def erode(image):\n",
    "    kernel = np.ones((5,5),dtype=np.uint8)\n",
    "    return cv2.erode(image, kernel, iterations = 1)\n",
    "\n",
    "#opening - erosion followed by dilation\n",
    "def opening(image):\n",
    "    kernel = np.ones((5, 5), np.uint8) \n",
    "    return cv2.morphologyEx(image, cv2.MORPH_OPEN, kernel)\n",
    "\n",
    "def tophat(image):\n",
    "    kernel = np.ones((5, 5), np.uint8) \n",
    "    return cv2.morphologyEx(image, cv2.MORPH_TOPHAT, rectKernel)"
   ]
  },
  {
   "cell_type": "code",
   "execution_count": null,
   "metadata": {},
   "outputs": [],
   "source": [
    "PATH_TO_IMAGE = os.path.join(TEST_IMAGE_PATH, 'ocr/myhi00005.jpg')\n",
    "img = cv2.imread(PATH_TO_IMAGE, cv2.IMREAD_COLOR)\n",
    "gray = cv2.cvtColor(img,cv2.COLOR_RGB2GRAY)\n",
    "rn = remove_noise(gray)\n",
    "ts = thresholding(gray)\n",
    "dl = dilate(gray)\n",
    "er = erode(gray)\n",
    "op = opening(gray)\n",
    "th = tophat(gray)\n",
    "plt.imshow(th)"
   ]
  },
  {
   "cell_type": "code",
   "execution_count": null,
   "metadata": {},
   "outputs": [],
   "source": [
    "#img = cv2.imread(PATH_TO_IMAGE, cv2.COLOR_BGR2RGB)\n",
    "PATH_TO_IMAGE = os.path.join(TEST_IMAGE_PATH, 'ocr/myhi00005.jpg')\n",
    "PATH_TO_IMAGE_OUT = os.path.join(TEST_IMAGE_PATH, 'output.jpg')\n",
    "img = cv2.imread(PATH_TO_IMAGE, cv2.IMREAD_COLOR)\n",
    "gray = cv2.cvtColor(img,cv2.COLOR_RGB2GRAY)\n",
    "#gray = cv2.GaussianBlur(gray,(51,51),3)\n",
    "gray = cv2.bilateralFilter(gray, 5, 100,100)\n",
    "plt.imshow(gray)\n",
    "plt.show()\n",
    "binary = cv2.threshold(gray, 0, 255, cv2.THRESH_OTSU + cv2.THRESH_BINARY)[1]\n",
    "plt.imshow(binary)\n",
    "plt.show()\n",
    "cnts = cv2.findContours(binary, cv2.RETR_EXTERNAL, cv2.CHAIN_APPROX_SIMPLE)\n",
    "cnts = cnts[0] if len(cnts) == 2 else cnts[1]\n",
    "boxes = []\n",
    "cnt = None\n",
    "max_area = x = y = w = h = 0\n",
    "i=0\n",
    "v=0\n",
    "print('initial max area ', max_area)\n",
    "for c in cnts:\n",
    "    area = cv2.contourArea(c)\n",
    "    x, y, w, h = cv2.boundingRect(c)\n",
    "    v+=1\n",
    "    if area > max_area:\n",
    "        #print('{} > {}'.format(area, max_area))\n",
    "        #cv2.rectangle(img, (x,y), (x+w, y+h), (0, 255, 0), 2)\n",
    "        #cv2.drawContours(img, [c], 0, (0,  255, 0), 3)\n",
    "        cropped = img[y:y + h, x:x + w] \n",
    "        max_area = area\n",
    "        cnt = c    \n",
    "        boxes.append(c)\n",
    "        i+=1\n",
    "\n",
    "plt.imshow(cropped)\n",
    "#cv2.imwrite(PATH_TO_IMAGE_OUT,cropped)\n",
    "print('number of contour ',i)\n",
    "print('number of contour v ',v)\n"
   ]
  },
  {
   "cell_type": "code",
   "execution_count": null,
   "metadata": {},
   "outputs": [],
   "source": [
    "\n",
    "boxes = np.asarray(boxes)\n",
    "box = boxes[len(boxes)-1]\n",
    "#box = boxes[9]\n",
    "x1,y1,w1,h1 = cv2.boundingRect(box)\n",
    "print('x1 {} y1 {} w1 {} h1 {} x+w {} y+h {}'.format(x1,y1,w1,h1,x+w,y+h))\n",
    "\n",
    "#cv2.drawContours(img, [box], 0, (0,  255, 0), 3)\n",
    "#cv2.rectangle(img, (x1,y1), (x1+w1, y1+h1), (255, 0, 0), 3)\n",
    "#cv2.drawContours(img, [cnt], 0, (0,  255, 0), 3)\n",
    "#cv2.rectangle(img, (x,y), (x+w, y+h), (255, 0, 0), 3)\n",
    "#cv2.rectangle(img, (left,top), (right,bottom), (255, 0, 0), 2)\n",
    "print('x {} y {} w {} h {}'.format(x1,y1,w1,h1))\n",
    "crop_img = img[y1:y1+h1, x1:x1+w1]\n",
    "plt.imshow(crop_img)"
   ]
  },
  {
   "cell_type": "code",
   "execution_count": null,
   "metadata": {},
   "outputs": [],
   "source": []
  },
  {
   "cell_type": "code",
   "execution_count": null,
   "metadata": {},
   "outputs": [],
   "source": []
  }
 ],
 "metadata": {
  "kernelspec": {
   "display_name": "Python 3",
   "language": "python",
   "name": "python3"
  },
  "language_info": {
   "codemirror_mode": {
    "name": "ipython",
    "version": 3
   },
   "file_extension": ".py",
   "mimetype": "text/x-python",
   "name": "python",
   "nbconvert_exporter": "python",
   "pygments_lexer": "ipython3",
   "version": "3.7.9"
  }
 },
 "nbformat": 4,
 "nbformat_minor": 2
}
