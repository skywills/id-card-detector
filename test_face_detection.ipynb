{
 "cells": [
  {
   "cell_type": "code",
   "execution_count": null,
   "metadata": {},
   "outputs": [],
   "source": [
    "import re\n",
    "import cv2\n",
    "import pytesseract\n",
    "from PIL import Image\n",
    "import os\n",
    "import matplotlib.pyplot as plt\n",
    "from utils.face_util import HumanFaceDetect\n",
    "\n",
    "CWD_PATH = os.getcwd()\n",
    "PATH_FACE_XML = os.path.join(CWD_PATH, 'model/haarcascade_frontalface_alt.xml')\n",
    "PATH_EYE_XML = os.path.join(CWD_PATH, 'model/haarcascade_eye_tree_eyeglasses.xml')\n",
    "\n",
    "TEST_IMAGE_PATH = os.path.join(CWD_PATH, 'test_images')\n",
    "classfier = cv2.CascadeClassifier(PATH_FACE_XML)\n",
    "eyes_cascade = cv2.CascadeClassifier(PATH_EYE_XML)\n",
    "biggest_only = True\n",
    "\n",
    "flags = cv2.CASCADE_FIND_BIGGEST_OBJECT | cv2.CASCADE_DO_ROUGH_SEARCH if biggest_only else cv2.CASCADE_SCALE_IMAGE\n",
    "#p1 = HumanFaceDetect(PATH_FACE_XML)\n"
   ]
  },
  {
   "cell_type": "code",
   "execution_count": null,
   "metadata": {},
   "outputs": [],
   "source": [
    "def detectAndDisplay(frame):\n",
    "    frame_gray = cv2.cvtColor(frame, cv2.COLOR_BGR2GRAY)\n",
    "    frame_gray = cv2.equalizeHist(frame_gray)\n",
    "    #-- Detect faces\n",
    "    faces = classfier.detectMultiScale(frame_gray,scaleFactor=1.2, minNeighbors=3, minSize=(48, 48))\n",
    "    print('len faces - ', len(faces))\n",
    "    for (x,y,w,h) in faces:\n",
    "        center = (x + w//2, y + h//2)\n",
    "        frame = cv2.ellipse(frame, center, (w//2, h//2), 0, 0, 360, (255, 0, 255), 4)\n",
    "        faceROI = frame[y:y+h,x:x+w]\n",
    "        plt.imshow(faceROI)\n",
    "        #-- In each face, detect eyes\n",
    "        eyes = eyes_cascade.detectMultiScale(faceROI)\n",
    "        print('len eyes - ', len(eyes))\n",
    "        for (x2,y2,w2,h2) in eyes:\n",
    "            eye_center = (x + x2 + w2//2, y + y2 + h2//2)\n",
    "            radius = int(round((w2 + h2)*0.25))\n",
    "            frame = cv2.circle(frame, eye_center, radius, (255, 0, 0 ), 4)\n",
    "    #plt.imshow(frame)"
   ]
  },
  {
   "cell_type": "code",
   "execution_count": null,
   "metadata": {},
   "outputs": [],
   "source": [
    "pic_path = os.path.join(TEST_IMAGE_PATH, 'my04.jpg')\n",
    "frame = plt.imread(pic_path)\n",
    "detectAndDisplay(frame)"
   ]
  },
  {
   "cell_type": "code",
   "execution_count": null,
   "metadata": {},
   "outputs": [],
   "source": []
  }
 ],
 "metadata": {
  "kernelspec": {
   "display_name": "Python 3",
   "language": "python",
   "name": "python3"
  },
  "language_info": {
   "codemirror_mode": {
    "name": "ipython",
    "version": 3
   },
   "file_extension": ".py",
   "mimetype": "text/x-python",
   "name": "python",
   "nbconvert_exporter": "python",
   "pygments_lexer": "ipython3",
   "version": "3.7.9"
  }
 },
 "nbformat": 4,
 "nbformat_minor": 2
}
