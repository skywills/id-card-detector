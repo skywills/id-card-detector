{
 "cells": [
  {
   "cell_type": "code",
   "execution_count": null,
   "metadata": {},
   "outputs": [],
   "source": [
    "import re\n",
    "import cv2\n",
    "import pytesseract\n",
    "from PIL import Image\n",
    "import os\n",
    "import matplotlib.pyplot as plt\n",
    "from utils.face_util import HumanFaceDetect\n",
    "import glob\n",
    "\n",
    "CWD_PATH = os.getcwd()\n",
    "PATH_FACE_XML = os.path.join(CWD_PATH, 'model/haarcascade_frontalface_alt2.xml')\n",
    "#PATH_EYE_XML = os.path.join(CWD_PATH, 'model/haarcascade_eye_tree_eyeglasses.xml')\n",
    "PATH_EYE_XML = os.path.join(CWD_PATH, 'model/haarcascade_eye.xml')\n",
    "PATH_NOSE_XML = os.path.join(CWD_PATH, 'model/haarcascade_mcs_nose.xml')\n",
    "\n",
    "TEST_IMAGE_PATH = os.path.join(CWD_PATH, 'test_images')\n",
    "classfier = cv2.CascadeClassifier(PATH_FACE_XML)\n",
    "eyes_cascade = cv2.CascadeClassifier(PATH_EYE_XML)\n",
    "nose_cascade = cv2.CascadeClassifier(PATH_NOSE_XML)\n",
    "biggest_only = True\n",
    "\n",
    "flags = cv2.CASCADE_FIND_BIGGEST_OBJECT | cv2.CASCADE_DO_ROUGH_SEARCH if biggest_only else cv2.CASCADE_SCALE_IMAGE\n",
    "#p1 = HumanFaceDetect(PATH_FACE_XML)\n"
   ]
  },
  {
   "cell_type": "code",
   "execution_count": null,
   "metadata": {},
   "outputs": [],
   "source": [
    "def detectAndDisplay(frame):\n",
    "    frame_gray = cv2.cvtColor(frame, cv2.COLOR_BGR2GRAY)\n",
    "    frame_gray = cv2.equalizeHist(frame_gray)\n",
    "    #-- Detect faces\n",
    "    faces = classfier.detectMultiScale(frame_gray,scaleFactor=2, minNeighbors=5, minSize=(32, 32))\n",
    "\n",
    "    if(len(faces) == 0):\n",
    "        return frame, 0, 0, 0\n",
    "    for (x,y,w,h) in faces:\n",
    "        center = (x + w//2, y + h//2)\n",
    "        frame = cv2.ellipse(frame, center, (w//2, h//2), 0, 0, 360, (255, 0, 255), 4)\n",
    "        faceROI = frame[y:y+h,x:x+w]\n",
    "        #-- In each face, detect eyes\n",
    "        nose_rects = nose_cascade.detectMultiScale(faceROI, 1.2, 5)\n",
    "        #print('nose ',len(nose_rects))\n",
    "        if(nose_rects is None):\n",
    "            nose_rects = []\n",
    "        for (x,y,w,h) in nose_rects:\n",
    "            cv2.rectangle(frame, (x,y), (x+w,y+h), (0,255,0), 3)\n",
    "            break      \n",
    "            \n",
    "        eyes = eyes_cascade.detectMultiScale(faceROI)\n",
    "        #print('len eyes - ', len(eyes))\n",
    "        for (x2,y2,w2,h2) in eyes:\n",
    "            eye_center = (x + x2 + w2//2, y + y2 + h2//2)\n",
    "            radius = int(round((w2 + h2)*0.25))\n",
    "            frame = cv2.circle(frame, eye_center, radius, (255, 0, 0 ), 4)\n",
    "    #plt.imshow(frame)\n",
    "    return frame, len(faces),len(nose_rects),len(eyes)"
   ]
  },
  {
   "cell_type": "code",
   "execution_count": null,
   "metadata": {},
   "outputs": [],
   "source": []
  },
  {
   "cell_type": "code",
   "execution_count": null,
   "metadata": {},
   "outputs": [],
   "source": [
    "def plot_figure(ls):\n",
    "    plt.figure(figsize=(15,12))\n",
    "    i = 0\n",
    "    for file in list(ls):\n",
    "      plt.subplot(6,5,i+1)\n",
    "      plt.subplots_adjust(hspace = 0.3)\n",
    "      img = plt.imread(file)\n",
    "      file_name = os.path.basename(file)  \n",
    "      #print('file_name ', file_name)        \n",
    "      frame, fl, nl, el = detectAndDisplay(img)\n",
    "      plt.imshow(frame)\n",
    "      color = \"blue\" if fl >= 1 else \"red\"\n",
    "      plt.title(\"{} fl {}, nl {}, el {}\".format(file_name,fl,nl,el),color=color)\n",
    "      plt.axis('off')\n",
    "      i+=1\n",
    "    _ = plt.suptitle(\"Model predictions\")    "
   ]
  },
  {
   "cell_type": "code",
   "execution_count": null,
   "metadata": {},
   "outputs": [],
   "source": [
    "folder = 'correct'\n",
    "lst = sorted(glob.glob(\"{}/{}/*\".format(TEST_IMAGE_PATH,folder)))\n",
    "plot_figure(lst)"
   ]
  },
  {
   "cell_type": "code",
   "execution_count": null,
   "metadata": {},
   "outputs": [],
   "source": [
    "pic_path = os.path.join(TEST_IMAGE_PATH, 'right/cn0000003 (copy).jpg')\n",
    "frame = plt.imread(pic_path)\n",
    "frame, fl, nl, el = detectAndDisplay(frame)\n",
    "print(fl, nl, el)\n",
    "plt.imshow(frame)"
   ]
  },
  {
   "cell_type": "code",
   "execution_count": null,
   "metadata": {},
   "outputs": [],
   "source": []
  }
 ],
 "metadata": {
  "kernelspec": {
   "display_name": "Python 3",
   "language": "python",
   "name": "python3"
  },
  "language_info": {
   "codemirror_mode": {
    "name": "ipython",
    "version": 3
   },
   "file_extension": ".py",
   "mimetype": "text/x-python",
   "name": "python",
   "nbconvert_exporter": "python",
   "pygments_lexer": "ipython3",
   "version": "3.7.9"
  }
 },
 "nbformat": 4,
 "nbformat_minor": 2
}
